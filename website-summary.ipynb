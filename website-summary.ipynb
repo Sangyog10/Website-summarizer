{
 "cells": [
  {
   "cell_type": "code",
   "execution_count": 65,
   "id": "f7549d8d-570f-454b-8a2e-97cbd0b3e93b",
   "metadata": {},
   "outputs": [],
   "source": [
    "import os\n",
    "import requests\n",
    "from dotenv import load_dotenv\n",
    "from bs4 import BeautifulSoup\n"
   ]
  },
  {
   "cell_type": "code",
   "execution_count": 66,
   "id": "2808e2af-1b43-46cd-b626-2cb72bcadee4",
   "metadata": {},
   "outputs": [],
   "source": [
    "# defining headers \n",
    "headers = {\n",
    " \"User-Agent\": \"Mozilla/5.0 (Windows NT 10.0; Win64; x64) AppleWebKit/537.36 (KHTML, like Gecko) Chrome/117.0.0.0 Safari/537.36\"\n",
    "}"
   ]
  },
  {
   "cell_type": "code",
   "execution_count": 68,
   "id": "76670bc5-f154-4445-adc1-2092d1a4a16c",
   "metadata": {},
   "outputs": [],
   "source": [
    "class Website:\n",
    "    def __init__(self, url):\n",
    "        self.url = url\n",
    "        response = requests.get(url, headers=headers)\n",
    "        soup = BeautifulSoup(response.content, 'html.parser')              #parsing the html content\n",
    "        self.title= soup.title.string if soup.title else \"No title found\"\n",
    "        for irrevelent in soup.body([\"script\", \"style\",\"img\" , \"input\"]):  #unwanted elements\n",
    "            irrevelent.decompose()                                         # delete those elements from soup\n",
    "        self.text = soup.body.get_text(separator=\"\\n\", strip=True)         #strip removes extra space\n",
    "        \n",
    "        "
   ]
  },
  {
   "cell_type": "code",
   "execution_count": 69,
   "id": "1255a438-05dc-44d1-a461-07565283539a",
   "metadata": {},
   "outputs": [],
   "source": [
    "site = Website(\"https://cyberalertnepal.com/\")\n"
   ]
  },
  {
   "cell_type": "code",
   "execution_count": 70,
   "id": "ef591c28-3631-4697-9077-1b438af6720e",
   "metadata": {},
   "outputs": [],
   "source": [
    "#system prompt for model\n",
    "system_prompt = \"You are an assistant that analyzes the contents of a website \\\n",
    "and provides a short summary, ignoring text that might be navigation related. \\\n",
    "Respond in markdown.\""
   ]
  },
  {
   "cell_type": "code",
   "execution_count": 71,
   "id": "9103b26a-cf36-4af4-b000-7de780b24be1",
   "metadata": {},
   "outputs": [],
   "source": [
    "# A function that writes a User Prompt that asks for summaries of websites:\n",
    "\n",
    "def user_prompt_for(website):\n",
    "    user_prompt = f\"You are looking at a website titled {website.title}\"\n",
    "    user_prompt += \"\\nThe contents of this website is as follows; \\\n",
    "please provide a short summary of this website in markdown. \\\n",
    "If it includes news or announcements, then summarize these too.\\n\\n\"\n",
    "    user_prompt += website.text\n",
    "    return user_prompt"
   ]
  },
  {
   "cell_type": "code",
   "execution_count": 72,
   "id": "53dcbb62-33e9-4084-ad42-1f6f4ef94586",
   "metadata": {
    "scrolled": true
   },
   "outputs": [
    {
     "name": "stdout",
     "output_type": "stream",
     "text": [
      "[{'role': 'user', 'content': 'You are looking at a website titled No title found\\nThe contents of this website is as follows; please provide a short summary of this website in markdown. If it includes news or announcements, then summarize these too.\\n\\nSkip to Content\\nWe strongly advise victims of cybercrime to report the incident immediately to\\nCyber Bureau\\nunder Nepal Police or\\nCyber Alert Nepal.\\nAbout\\nServices\\nGuides\\nBlogs\\nTraining\\nContact\\nNP\\nDocs\\nOverview\\nAPI\\nOverview\\nFind My IP\\nCyber Leak Checker\\nIs My Website Compromised?\\nTerms & Conditions\\nGuides\\nHome\\nYou\\'ve Been Hacked?\\nHacked WiFi\\nService Provider Breach\\nSim Swapping\\nUnauthorized Access\\nTargeted By Digital Fraud?\\nCard Fraud\\nFake Websites\\nIndentity Theft\\nInvestment Scam\\nScammed applying for a loan\\nOnline Auction Fraud\\nPhishing\\nRecover Money Lost to Scams\\nRecruitment Scam\\nVirtual Currency Scams\\nBeing Harrased Online?\\nCatfishing\\nCyberstalking\\nInappropriate Content\\nOnline Grooming\\nOnline Harassment\\nFake Profiles, Outing and Frape\\nRevenge Porn\\nNoticed Suspicious Activity?\\nScam Emails (Phishing)\\nScam Phone Calls (Vishing)\\nScam Text & Direct Messages (Smishing)\\nSomeone is making you Pay A Ransom?\\nContent for Ransom\\nEncrypting Ransomware\\nMalicious Software & Infections\\nScreen-locking Ransomware\\nWebcam Blackmail (Sextortion)\\nLost Your Device or Privacy?\\nAccidental Information Share\\nBugs, Cameras, Trackers\\nLost or Stolen Phone or Device\\nMalicious Online Reporting\\nCyber Attacks Knowledge\\nBaiting\\nBusiness Email Compromise (BEC)\\nCEO Fraud\\nCrypto Drainers\\nDeepfake Scams\\nDigital Arrest Scam\\nFake Charity Scams\\nFake Tech Support Scams\\nHoneytrap Attacks\\nImpersonation\\nJob Offer Scams\\nPhishing\\nPig Butchering\\nPretexting\\nQR Code Scams (Quishing)\\nQuid Pro Quo\\nRomance Scams\\nSIM Swapping\\nSmishing\\nSocial Media Hijacking\\nSpear Phishing\\nTailgating\\nVishing\\nWatering Hole Attack\\nWhale Phishing\\nAbout\\nContact\\nServices\\nTraining\\nLight\\nEnglish\\nEnglish\\nCyber\\nAlert\\nNepal\\nBeta\\nCheckout\\nBreach Alert System🚨\\nA\\nl\\ne\\nr\\nt\\nToday,\\nS\\ne\\nc\\nu\\nr\\ne\\nd\\nForever\\nWith\\nSecurity Checks\\n,\\nCyber Helpline Chatbot\\n, and\\nCyber Crime Reporting\\n.\\nGet Help Now\\nRead Docs\\nFeatures\\nCyber Alert Nepal offers a range of features to help you stay safe online. From finding your IP address to checking if your email has been compromised, our tools are designed to empower you with the knowledge you need to protect yourself from cyber threats.\\nFind My IP\\nFind Information on yours and others public IP address instantly.\\nCyber Leak Checker\\nLatest\\nCheck if your email or personal information has been compromised in known data breaches.\\nIs My Website Compromised?\\nLatest\\nPerform basic security check on a website to identify potential vulnerabilities.\\nReport Cybercrime\\nReport cybercrime through our Chatbot for further investigation and action.\\nFile Scanner Tool\\nComing Soon\\nScans files for potential malware, viruses, or suspicious content.\\nAI Generated Content Checker\\nComing Soon\\nCheck content for deep fakes, misinformation, or harmful content, from images, text, or videos.\\nAwareness and Training\\nCyber Alert Nepal offers training sessions on cybersecurity best practices.\\nPhishing Email Simulator\\nLatest\\nSimulates phishing emails to test users’ awareness and responses.\\nIncident Response Plan\\nComing Soon\\nCreate an incident response plan to prepare for and respond to cybersecurity incidents effectively.\\nTestimonials\\n\"\\nCyber Alert Nepal has been making a significant impact in cyber hygiene and digital safety. Their initiatives, including technical assistance, training programs, community engagement and public resources, have been highly beneficial. It’s great to see an organization dedicated to strengthening cyber resilience and helping individuals and businesses stay secure online.\\n\"\\nEr. Kaji Ram Karki\\nCampus Chief, Purwanchal Campus, IOE, Nepal\\n\"\\nAt Cyber Alert Nepal, our mission is clear, to create a safer digital environment for every Nepali. In an age where cyber threats are growing every day, we believe cybersecurity should be a right, not a privilege. Our platform empowers individuals, and organizations with tools, knowledge, and support to stay protected online. We are building more than just a service, we are building trust, awareness, and resilience in Nepal’s digital journey.\\n\"\\nEr. Yogesh Ghimire\\nCEO, Cyber Alert Nepal\\n\"\\nThe customized training provided by Cyber Alert Nepal was exceptional. The phishing simulation helped us identify gaps in our processes, and their recommendations were invaluable for improving our security posture. I highly recommend their services to any organization looking to enhance their cybersecurity practices and protect their digital assets.\\n\"\\nMr. Subash Mishra\\nIT Manager, Secure IT, India\\nIn The Press\\nCyber Alert Nepal has been featured in various media outlets for its work in cybersecurity awareness, training, and incident response.\\nTechPana\\nReport on Nepal\\'s Cybersecurity Advisory\\nArticle that highlights the common flaws in the recently released cybersecurity advisory such as lack of technical details, vague recommendations, and lack of actionable steps.\\nEnglish\\nLight\\nJoin Our\\nNewsletter\\nSubscribe to our newsletter to get the real-time cyber alerts and news.\\nSubscribe\\nEnable auto notification if Compromised\\nProduct & support\\nFeatures\\nSecurity\\nCustomer stories\\nResources\\nProfessional Services\\nCyber Alert Nepal\\nDocs\\nContact\\nCareers\\nTerms & Conditions\\nPrivacy Policy\\nQuick Links\\nNational Cyber Security Center\\nCyber Bureau\\nFind us on Map\\n©\\n2025\\nCyber Alert Nepal. All rights reserved.\\n1'}]\n"
     ]
    }
   ],
   "source": [
    "messages = [\n",
    "    {\n",
    "        \"role\":\"user\",\n",
    "        \"content\": user_prompt_for(site)\n",
    "    }\n",
    "]\n",
    "print(messages)"
   ]
  },
  {
   "cell_type": "code",
   "execution_count": 73,
   "id": "f318b355-c34b-43ba-9fad-ed42850c4a72",
   "metadata": {},
   "outputs": [],
   "source": [
    "#now importing ollama locally\n",
    "import ollama\n"
   ]
  },
  {
   "cell_type": "code",
   "execution_count": 74,
   "id": "e4a562b1-5975-419c-bb72-5de619552f4c",
   "metadata": {},
   "outputs": [],
   "source": [
    "MODEL = \"llama3.2\" #i have this model in my device"
   ]
  },
  {
   "cell_type": "code",
   "execution_count": 75,
   "id": "240c04d9-2522-4cca-8726-67313e7042b4",
   "metadata": {},
   "outputs": [
    {
     "name": "stdout",
     "output_type": "stream",
     "text": [
      "**No Title Found Website Summary**\n",
      "\n",
      "### Overview\n",
      "\n",
      "The website \"No title found\" appears to be a cybersecurity awareness and education platform focused on helping individuals and organizations protect themselves from cyber threats.\n",
      "\n",
      "### Features\n",
      "\n",
      "* **Tools**: The website offers various tools, including:\n",
      "\t+ Find My IP: to check the user's public IP address\n",
      "\t+ Cyber Leak Checker: to check if email or personal information has been compromised in known data breaches\n",
      "\t+ Is My Website Compromised?: to perform basic security checks on a website\n",
      "* **Reporting**: Users can report suspected cybercrime through a chatbot for further investigation and action.\n",
      "* **Training**: The platform provides training sessions on cybersecurity best practices, including phishing email simulators and incident response plans.\n",
      "\n",
      "### News and Announcements\n",
      "\n",
      "* A breach alert system has been launched to notify users of potential security threats.\n",
      "* Cyber Alert Nepal has been featured in various media outlets for its work in cybersecurity awareness, training, and incident response.\n",
      "* The organization is committed to creating a safer digital environment for every Nepali, with a focus on empowering individuals and organizations with tools, knowledge, and support.\n",
      "\n",
      "### Quotes\n",
      "\n",
      "* \"Cyber Alert Nepal has been making a significant impact in cyber hygiene and digital safety.\"\n",
      "* \"Our mission is clear: to create a safer digital environment for every Nepali.\"\n",
      "\n",
      "Note: The website appears to be focused on promoting cybersecurity awareness and education, rather than providing news or announcements.\n"
     ]
    }
   ],
   "source": [
    "response = ollama.chat(model=MODEL, messages=messages)\n",
    "print(response.message.content)"
   ]
  },
  {
   "cell_type": "code",
   "execution_count": null,
   "id": "397d7a87-42de-42a7-9766-056eea7ead0a",
   "metadata": {},
   "outputs": [],
   "source": []
  }
 ],
 "metadata": {
  "kernelspec": {
   "display_name": "Python 3 (ipykernel)",
   "language": "python",
   "name": "python3"
  },
  "language_info": {
   "codemirror_mode": {
    "name": "ipython",
    "version": 3
   },
   "file_extension": ".py",
   "mimetype": "text/x-python",
   "name": "python",
   "nbconvert_exporter": "python",
   "pygments_lexer": "ipython3",
   "version": "3.11.12"
  }
 },
 "nbformat": 4,
 "nbformat_minor": 5
}
